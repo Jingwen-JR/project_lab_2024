{
 "cells": [
  {
   "cell_type": "markdown",
   "metadata": {},
   "source": [
    "# Arbitrage Trade Log Test"
   ]
  },
  {
   "cell_type": "code",
   "execution_count": 1,
   "metadata": {},
   "outputs": [],
   "source": [
    "import pandas as pd\n",
    "import numpy as np"
   ]
  },
  {
   "cell_type": "code",
   "execution_count": 2,
   "metadata": {},
   "outputs": [],
   "source": [
    "df = pd.read_csv('trade_log.csv')\n",
    "symbol_df = pd.read_csv('symbol_map.csv')\n",
    "volume_df = pd.read_csv('trade_volume.csv')"
   ]
  },
  {
   "cell_type": "code",
   "execution_count": 3,
   "metadata": {},
   "outputs": [
    {
     "name": "stdout",
     "output_type": "stream",
     "text": [
      "VXH5-VXMH5\n",
      "VXV4-VXMV4\n",
      "VXZ4-VXMZ4\n",
      "VXX4-VXMX4\n",
      "VXG5-VXMG5\n",
      "VXF5-VXMF5\n"
     ]
    }
   ],
   "source": [
    "vxm_vm_dict = {}\n",
    "vxm_lst = symbol_df[(symbol_df['root']=='VXM')&(symbol_df['legs']=='na')]['symbolName'].tolist()\n",
    "for vxm_name in vxm_lst:\n",
    "    vx_name = 'VX' + vxm_name[3:]\n",
    "    pair = vx_name + '-' + vxm_name\n",
    "    vxm_vm_dict[vx_name] = pair\n",
    "    vxm_vm_dict[vxm_name] = pair\n",
    "    print(pair)\n",
    "# vxm_vm_dict"
   ]
  },
  {
   "cell_type": "code",
   "execution_count": 4,
   "metadata": {},
   "outputs": [
    {
     "data": {
      "text/html": [
       "<div>\n",
       "<style scoped>\n",
       "    .dataframe tbody tr th:only-of-type {\n",
       "        vertical-align: middle;\n",
       "    }\n",
       "\n",
       "    .dataframe tbody tr th {\n",
       "        vertical-align: top;\n",
       "    }\n",
       "\n",
       "    .dataframe thead th {\n",
       "        text-align: right;\n",
       "    }\n",
       "</style>\n",
       "<table border=\"1\" class=\"dataframe\">\n",
       "  <thead>\n",
       "    <tr style=\"text-align: right;\">\n",
       "      <th></th>\n",
       "      <th>Time</th>\n",
       "      <th>Symbol</th>\n",
       "      <th>Price</th>\n",
       "      <th>Quantity</th>\n",
       "      <th>SideIndicator</th>\n",
       "      <th>Size</th>\n",
       "      <th>CashFlow</th>\n",
       "      <th>Pair</th>\n",
       "    </tr>\n",
       "  </thead>\n",
       "  <tbody>\n",
       "    <tr>\n",
       "      <th>0</th>\n",
       "      <td>2024-10-06 17:08:11.382751000</td>\n",
       "      <td>VXV4</td>\n",
       "      <td>20.20</td>\n",
       "      <td>1</td>\n",
       "      <td>S</td>\n",
       "      <td>1000</td>\n",
       "      <td>20200.0</td>\n",
       "      <td>VXV4-VXMV4</td>\n",
       "    </tr>\n",
       "    <tr>\n",
       "      <th>1</th>\n",
       "      <td>2024-10-06 17:08:11.382751000</td>\n",
       "      <td>VXMV4</td>\n",
       "      <td>20.18</td>\n",
       "      <td>10</td>\n",
       "      <td>B</td>\n",
       "      <td>100</td>\n",
       "      <td>-20180.0</td>\n",
       "      <td>VXV4-VXMV4</td>\n",
       "    </tr>\n",
       "    <tr>\n",
       "      <th>2</th>\n",
       "      <td>2024-10-06 18:17:53.898256000</td>\n",
       "      <td>VXMZ4</td>\n",
       "      <td>18.71</td>\n",
       "      <td>10</td>\n",
       "      <td>S</td>\n",
       "      <td>100</td>\n",
       "      <td>18710.0</td>\n",
       "      <td>VXZ4-VXMZ4</td>\n",
       "    </tr>\n",
       "    <tr>\n",
       "      <th>3</th>\n",
       "      <td>2024-10-06 18:17:53.898256000</td>\n",
       "      <td>VXZ4</td>\n",
       "      <td>18.70</td>\n",
       "      <td>1</td>\n",
       "      <td>B</td>\n",
       "      <td>1000</td>\n",
       "      <td>-18700.0</td>\n",
       "      <td>VXZ4-VXMZ4</td>\n",
       "    </tr>\n",
       "    <tr>\n",
       "      <th>4</th>\n",
       "      <td>2024-10-06 19:02:35.935762000</td>\n",
       "      <td>VXMV4</td>\n",
       "      <td>20.36</td>\n",
       "      <td>20</td>\n",
       "      <td>S</td>\n",
       "      <td>100</td>\n",
       "      <td>40720.0</td>\n",
       "      <td>VXV4-VXMV4</td>\n",
       "    </tr>\n",
       "    <tr>\n",
       "      <th>...</th>\n",
       "      <td>...</td>\n",
       "      <td>...</td>\n",
       "      <td>...</td>\n",
       "      <td>...</td>\n",
       "      <td>...</td>\n",
       "      <td>...</td>\n",
       "      <td>...</td>\n",
       "      <td>...</td>\n",
       "    </tr>\n",
       "    <tr>\n",
       "      <th>97</th>\n",
       "      <td>2024-10-11 13:58:16.920316000</td>\n",
       "      <td>VXV4</td>\n",
       "      <td>21.00</td>\n",
       "      <td>1</td>\n",
       "      <td>S</td>\n",
       "      <td>1000</td>\n",
       "      <td>21000.0</td>\n",
       "      <td>VXV4-VXMV4</td>\n",
       "    </tr>\n",
       "    <tr>\n",
       "      <th>98</th>\n",
       "      <td>2024-10-11 13:58:16.920316000</td>\n",
       "      <td>VXMV4</td>\n",
       "      <td>20.98</td>\n",
       "      <td>9</td>\n",
       "      <td>B</td>\n",
       "      <td>100</td>\n",
       "      <td>-18882.0</td>\n",
       "      <td>VXV4-VXMV4</td>\n",
       "    </tr>\n",
       "    <tr>\n",
       "      <th>99</th>\n",
       "      <td>2024-10-11 13:58:16.920316000</td>\n",
       "      <td>VXMV4</td>\n",
       "      <td>20.99</td>\n",
       "      <td>1</td>\n",
       "      <td>B</td>\n",
       "      <td>100</td>\n",
       "      <td>-2099.0</td>\n",
       "      <td>VXV4-VXMV4</td>\n",
       "    </tr>\n",
       "    <tr>\n",
       "      <th>100</th>\n",
       "      <td>2024-10-11 15:01:51.809363000</td>\n",
       "      <td>VXMV4</td>\n",
       "      <td>21.17</td>\n",
       "      <td>10</td>\n",
       "      <td>S</td>\n",
       "      <td>100</td>\n",
       "      <td>21170.0</td>\n",
       "      <td>VXV4-VXMV4</td>\n",
       "    </tr>\n",
       "    <tr>\n",
       "      <th>101</th>\n",
       "      <td>2024-10-11 15:01:51.809363000</td>\n",
       "      <td>VXV4</td>\n",
       "      <td>21.15</td>\n",
       "      <td>1</td>\n",
       "      <td>B</td>\n",
       "      <td>1000</td>\n",
       "      <td>-21150.0</td>\n",
       "      <td>VXV4-VXMV4</td>\n",
       "    </tr>\n",
       "  </tbody>\n",
       "</table>\n",
       "<p>102 rows × 8 columns</p>\n",
       "</div>"
      ],
      "text/plain": [
       "                              Time Symbol  Price  Quantity SideIndicator  \\\n",
       "0    2024-10-06 17:08:11.382751000   VXV4  20.20         1             S   \n",
       "1    2024-10-06 17:08:11.382751000  VXMV4  20.18        10             B   \n",
       "2    2024-10-06 18:17:53.898256000  VXMZ4  18.71        10             S   \n",
       "3    2024-10-06 18:17:53.898256000   VXZ4  18.70         1             B   \n",
       "4    2024-10-06 19:02:35.935762000  VXMV4  20.36        20             S   \n",
       "..                             ...    ...    ...       ...           ...   \n",
       "97   2024-10-11 13:58:16.920316000   VXV4  21.00         1             S   \n",
       "98   2024-10-11 13:58:16.920316000  VXMV4  20.98         9             B   \n",
       "99   2024-10-11 13:58:16.920316000  VXMV4  20.99         1             B   \n",
       "100  2024-10-11 15:01:51.809363000  VXMV4  21.17        10             S   \n",
       "101  2024-10-11 15:01:51.809363000   VXV4  21.15         1             B   \n",
       "\n",
       "     Size  CashFlow        Pair  \n",
       "0    1000   20200.0  VXV4-VXMV4  \n",
       "1     100  -20180.0  VXV4-VXMV4  \n",
       "2     100   18710.0  VXZ4-VXMZ4  \n",
       "3    1000  -18700.0  VXZ4-VXMZ4  \n",
       "4     100   40720.0  VXV4-VXMV4  \n",
       "..    ...       ...         ...  \n",
       "97   1000   21000.0  VXV4-VXMV4  \n",
       "98    100  -18882.0  VXV4-VXMV4  \n",
       "99    100   -2099.0  VXV4-VXMV4  \n",
       "100   100   21170.0  VXV4-VXMV4  \n",
       "101  1000  -21150.0  VXV4-VXMV4  \n",
       "\n",
       "[102 rows x 8 columns]"
      ]
     },
     "execution_count": 4,
     "metadata": {},
     "output_type": "execute_result"
    }
   ],
   "source": [
    "df['Size'] = df['Symbol'].map(symbol_df.set_index('symbolName')['size'])\n",
    "df['CashFlow'] = df['Price'] * df['Quantity'] * df['SideIndicator'].map({'B': -1, 'S': 1})* df['Size']\n",
    "df['Pair'] = df['Symbol'].map(vxm_vm_dict)\n",
    "df"
   ]
  },
  {
   "cell_type": "code",
   "execution_count": 7,
   "metadata": {},
   "outputs": [
    {
     "name": "stdout",
     "output_type": "stream",
     "text": [
      "Total Pnl($):  2826\n",
      "Pair\n",
      "VXV4-VXMV4    2416.0\n",
      "VXX4-VXMX4     380.0\n",
      "VXZ4-VXMZ4      30.0\n",
      "Name: CashFlow, dtype: float64\n"
     ]
    }
   ],
   "source": [
    "print('Total Pnl($): ', round(df['CashFlow'].sum()))\n",
    "print(df.groupby('Pair')['CashFlow'].sum())"
   ]
  },
  {
   "cell_type": "code",
   "execution_count": 14,
   "metadata": {},
   "outputs": [
    {
     "data": {
      "text/plain": [
       "Symbol\n",
       "VXV4          282851\n",
       "VXX4          245965\n",
       "-VXV4+VXX4     67680\n",
       "VXZ4           60439\n",
       "VXTX4          39863\n",
       "VXTV4          28043\n",
       "-VXX4+VXZ4     26574\n",
       "VXF5           24392\n",
       "VXG5           19115\n",
       "VXMV4          13837\n",
       "-VXZ4+VXF5      9796\n",
       "VXH5            9767\n",
       "VXTZ4           4870\n",
       "-VXV4+VXZ4      4510\n",
       "VXMX4           4317\n",
       "Name: ExecutedQuantity, dtype: int64"
      ]
     },
     "execution_count": 14,
     "metadata": {},
     "output_type": "execute_result"
    }
   ],
   "source": [
    "volume_df.groupby('Symbol').sum()['ExecutedQuantity'].sort_values(ascending=False).head(15)"
   ]
  },
  {
   "cell_type": "code",
   "execution_count": null,
   "metadata": {},
   "outputs": [],
   "source": []
  }
 ],
 "metadata": {
  "kernelspec": {
   "display_name": "Python 3",
   "language": "python",
   "name": "python3"
  },
  "language_info": {
   "codemirror_mode": {
    "name": "ipython",
    "version": 3
   },
   "file_extension": ".py",
   "mimetype": "text/x-python",
   "name": "python",
   "nbconvert_exporter": "python",
   "pygments_lexer": "ipython3",
   "version": "3.10.2"
  }
 },
 "nbformat": 4,
 "nbformat_minor": 2
}
